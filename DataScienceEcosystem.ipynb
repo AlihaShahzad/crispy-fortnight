{
 "cells": [
  {
   "cell_type": "markdown",
   "id": "39a008cd-c13a-47c1-a561-5bccac83d7ec",
   "metadata": {},
   "source": [
    "# Data Science Tools and Ecosystem"
   ]
  },
  {
   "cell_type": "markdown",
   "id": "eccb4916-4061-4f8d-b923-a5bda0d54236",
   "metadata": {},
   "source": [
    "In this notebook, Data Science Tools and Ecosystem are summarized."
   ]
  },
  {
   "cell_type": "markdown",
   "id": "de641481-c04e-4d6b-9cd8-8af8054d4f73",
   "metadata": {},
   "source": [
    "**Objectives:**\n",
    "* Languages that data scientists use\n",
    "* Arithmetic expressions\n",
    "* Data science Tools\n",
    "* Libraries used by data scientistsem\r\n",
    "em\r\n"
   ]
  },
  {
   "cell_type": "markdown",
   "id": "a2910089-d10a-4d79-a268-35727dbd9a39",
   "metadata": {},
   "source": [
    "Some of the popular languages that Data Scientists use are:\n",
    "1. Python\n",
    "2. R\n",
    "3. SQL\n",
    "4. Java\n",
    "5. Julia\n",
    "6. Scala\n",
    "7. SAS\n",
    "8. C++"
   ]
  },
  {
   "cell_type": "markdown",
   "id": "dff70226-696f-4d69-bfc2-c0097761a83a",
   "metadata": {},
   "source": [
    "Some of the commonly used libraries used by Data Scientists include:\n",
    "1. Pandas\n",
    "2. NumPy\n",
    "3. Matplotlib\n",
    "4. Seaborn\n",
    "5. Plotly\n",
    "6. Scikit-learn\n",
    "7. TensorFlow\n",
    "8. SciPy\n",
    "9. NLTK\n",
    "10. Apache Spark\n",
    "    "
   ]
  },
  {
   "cell_type": "markdown",
   "id": "fd08b23e-6769-4e7d-a1cc-1a482ed91775",
   "metadata": {},
   "source": [
    "Data Science Tools:\n",
    "1. Data Management Tools\n",
    "- MySQL\n",
    "- MongoDB\n",
    "- PostgreSQL\n",
    "2. Data Integration and Transformation Tools\n",
    "- Apache Hadoop\n",
    "- Apache Spark\n",
    "3. Data Analysis Tools\n",
    "- Jupyter Notebook\n",
    "- RStudio\n",
    "4. Visualization Tools\n",
    "- Tableau\n",
    "5. Model Deployment Tools\n",
    "- IBM Watson Studio\n",
    "6. Collaboration Tools\n",
    "- GitHub\n",
    "- GitLab\n"
   ]
  },
  {
   "cell_type": "markdown",
   "id": "f8449778-88e6-40c4-93ae-a8426449beee",
   "metadata": {},
   "source": [
    "### Below are a few examples of evaluating arithmetic expressions in Python\r\n"
   ]
  },
  {
   "cell_type": "markdown",
   "id": "4dea1f67-2f3e-4714-ab90-330ed73c2921",
   "metadata": {},
   "source": [
    "This a simple arithmetic expression to mutiply then add integers"
   ]
  },
  {
   "cell_type": "code",
   "execution_count": 137,
   "id": "6095c71d-6842-4538-b623-4d3356dbc2ef",
   "metadata": {},
   "outputs": [
    {
     "data": {
      "text/plain": [
       "17"
      ]
     },
     "execution_count": 137,
     "metadata": {},
     "output_type": "execute_result"
    }
   ],
   "source": [
    "(3*4)+5"
   ]
  },
  {
   "cell_type": "markdown",
   "id": "35c98622-dd65-450a-9901-35938a50d326",
   "metadata": {},
   "source": [
    "This will convert 200 minutes to hours by diving by 60"
   ]
  },
  {
   "cell_type": "code",
   "execution_count": 139,
   "id": "91b14acc-b05f-40d4-b514-dbaa81aeec9f",
   "metadata": {},
   "outputs": [
    {
     "name": "stdout",
     "output_type": "stream",
     "text": [
      "3.3333333333333335\n"
     ]
    }
   ],
   "source": [
    "hours = 200 / 60\n",
    "print(hours)"
   ]
  },
  {
   "cell_type": "markdown",
   "id": "8bd9a6f1-604d-49d1-bbb1-0c03fb40040c",
   "metadata": {},
   "source": [
    "Author name: Aliha Shahzad"
   ]
  },
  {
   "cell_type": "code",
   "execution_count": null,
   "id": "735962bd-16d9-4dc8-84e0-dbacea4af7a7",
   "metadata": {},
   "outputs": [],
   "source": []
  }
 ],
 "metadata": {
  "kernelspec": {
   "display_name": "Python 3 (ipykernel)",
   "language": "python",
   "name": "python3"
  },
  "language_info": {
   "codemirror_mode": {
    "name": "ipython",
    "version": 3
   },
   "file_extension": ".py",
   "mimetype": "text/x-python",
   "name": "python",
   "nbconvert_exporter": "python",
   "pygments_lexer": "ipython3",
   "version": "3.12.4"
  }
 },
 "nbformat": 4,
 "nbformat_minor": 5
}
